{
 "cells": [
  {
   "cell_type": "code",
   "execution_count": null,
   "id": "7feece2e-9426-4851-a6e2-9f5e95b8f447",
   "metadata": {
    "tags": []
   },
   "outputs": [
    {
     "name": "stdout",
     "output_type": "stream",
     "text": [
      "\n",
      "H A N G M A N - Fruit Edition\n",
      "\n",
      "   +---+\n",
      "   |   |\n",
      "       |\n",
      "       |\n",
      "       |\n",
      "       |\n",
      "=========\n",
      "\n",
      "Missed Letters: \n",
      "\n",
      "_ _ _ _ _ \n",
      "\n"
     ]
    },
    {
     "name": "stdin",
     "output_type": "stream",
     "text": [
      "Guess a letter:  f\n"
     ]
    },
    {
     "name": "stdout",
     "output_type": "stream",
     "text": [
      "\n",
      "H A N G M A N - Fruits Edition\n",
      "\n",
      "  +---+\n",
      "  |   |\n",
      "  O   |\n",
      "      |\n",
      "      |\n",
      "      |\n",
      "=========\n",
      "\n",
      "Missed Letters: f \n",
      "\n",
      "_ _ _ _ _ \n",
      "\n"
     ]
    },
    {
     "name": "stdin",
     "output_type": "stream",
     "text": [
      "Guess a letter:  j\n"
     ]
    },
    {
     "name": "stdout",
     "output_type": "stream",
     "text": [
      "\n",
      "H A N G M A N - Fruits Edition\n",
      "\n",
      "  +---+\n",
      "  |   |\n",
      "  O   |\n",
      "  |   |\n",
      "      |\n",
      "      |\n",
      "=========\n",
      "\n",
      "Missed Letters: f j \n",
      "\n",
      "_ _ _ _ _ \n",
      "\n"
     ]
    },
    {
     "name": "stdin",
     "output_type": "stream",
     "text": [
      "Guess a letter:  x\n"
     ]
    },
    {
     "name": "stdout",
     "output_type": "stream",
     "text": [
      "\n",
      "H A N G M A N - Fruits Edition\n",
      "\n",
      "  +---+\n",
      "  |   |\n",
      "  O   |\n",
      " /|   |\n",
      "      |\n",
      "      |\n",
      "=========\n",
      "\n",
      "Missed Letters: f j x \n",
      "\n",
      "_ _ _ _ _ \n",
      "\n"
     ]
    },
    {
     "name": "stdin",
     "output_type": "stream",
     "text": [
      "Guess a letter:  u\n"
     ]
    },
    {
     "name": "stdout",
     "output_type": "stream",
     "text": [
      "\n",
      "H A N G M A N - Fruits Edition\n",
      "\n",
      "  +---+\n",
      "  |   |\n",
      "  O   |\n",
      " /|\\  |\n",
      "      |\n",
      "      |\n",
      "=========\n",
      "\n",
      "Missed Letters: f j x u \n",
      "\n",
      "_ _ _ _ _ \n",
      "\n"
     ]
    },
    {
     "name": "stdin",
     "output_type": "stream",
     "text": [
      "Guess a letter:  b\n"
     ]
    },
    {
     "name": "stdout",
     "output_type": "stream",
     "text": [
      "\n",
      "H A N G M A N - Fruits Edition\n",
      "\n",
      "  +---+\n",
      "  |   |\n",
      "  O   |\n",
      " /|\\  |\n",
      " /    |\n",
      "      |\n",
      "=========\n",
      "\n",
      "Missed Letters: f j x u b \n",
      "\n",
      "_ _ _ _ _ \n",
      "\n"
     ]
    },
    {
     "name": "stdin",
     "output_type": "stream",
     "text": [
      "Guess a letter:  a\n"
     ]
    },
    {
     "name": "stdout",
     "output_type": "stream",
     "text": [
      "\n",
      "H A N G M A N - Fruits Edition\n",
      "\n",
      "  +---+\n",
      "  |   |\n",
      "  O   |\n",
      " /|\\  |\n",
      " /    |\n",
      "      |\n",
      "=========\n",
      "\n",
      "Missed Letters: f j x u b \n",
      "\n",
      "_ _ a _ _ \n",
      "\n"
     ]
    },
    {
     "name": "stdin",
     "output_type": "stream",
     "text": [
      "Guess a letter:  s\n"
     ]
    },
    {
     "name": "stdout",
     "output_type": "stream",
     "text": [
      "\n",
      "H A N G M A N - Fruits Edition\n",
      "\n",
      "  +---+\n",
      "  |   |\n",
      "  O   |\n",
      " /|\\  |\n",
      " / \\  |\n",
      "      |\n",
      "=========\n",
      "\n",
      "Missed Letters: f j x u b s \n",
      "\n",
      "_ _ a _ _ \n",
      "\n",
      "You have run out of guesses!\n",
      "After 6 missed guesses and 1 correct guesses, the word was \"grape\"\n"
     ]
    },
    {
     "name": "stdin",
     "output_type": "stream",
     "text": [
      "\n",
      "Do you want to play again?  y\n"
     ]
    },
    {
     "name": "stdout",
     "output_type": "stream",
     "text": [
      "\n",
      "H A N G M A N - Fruit Edition\n",
      "\n",
      "   +---+\n",
      "   |   |\n",
      "       |\n",
      "       |\n",
      "       |\n",
      "       |\n",
      "=========\n",
      "\n",
      "Missed Letters: \n",
      "\n",
      "_ _ _ _ _ _ \n",
      "\n"
     ]
    },
    {
     "name": "stdin",
     "output_type": "stream",
     "text": [
      "Guess a letter:  d\n"
     ]
    },
    {
     "name": "stdout",
     "output_type": "stream",
     "text": [
      "\n",
      "H A N G M A N - Fruits Edition\n",
      "\n",
      "  +---+\n",
      "  |   |\n",
      "  O   |\n",
      "      |\n",
      "      |\n",
      "      |\n",
      "=========\n",
      "\n",
      "Missed Letters: d \n",
      "\n",
      "_ _ _ _ _ _ \n",
      "\n"
     ]
    },
    {
     "name": "stdin",
     "output_type": "stream",
     "text": [
      "Guess a letter:  m\n"
     ]
    },
    {
     "name": "stdout",
     "output_type": "stream",
     "text": [
      "\n",
      "H A N G M A N - Fruits Edition\n",
      "\n",
      "  +---+\n",
      "  |   |\n",
      "  O   |\n",
      "  |   |\n",
      "      |\n",
      "      |\n",
      "=========\n",
      "\n",
      "Missed Letters: d m \n",
      "\n",
      "_ _ _ _ _ _ \n",
      "\n"
     ]
    },
    {
     "name": "stdin",
     "output_type": "stream",
     "text": [
      "Guess a letter:  o\n"
     ]
    },
    {
     "name": "stdout",
     "output_type": "stream",
     "text": [
      "\n",
      "H A N G M A N - Fruits Edition\n",
      "\n",
      "  +---+\n",
      "  |   |\n",
      "  O   |\n",
      "  |   |\n",
      "      |\n",
      "      |\n",
      "=========\n",
      "\n",
      "Missed Letters: d m \n",
      "\n",
      "o _ _ _ _ _ \n",
      "\n"
     ]
    },
    {
     "name": "stdin",
     "output_type": "stream",
     "text": [
      "Guess a letter:  s\n"
     ]
    },
    {
     "name": "stdout",
     "output_type": "stream",
     "text": [
      "\n",
      "H A N G M A N - Fruits Edition\n",
      "\n",
      "  +---+\n",
      "  |   |\n",
      "  O   |\n",
      " /|   |\n",
      "      |\n",
      "      |\n",
      "=========\n",
      "\n",
      "Missed Letters: d m s \n",
      "\n",
      "o _ _ _ _ _ \n",
      "\n"
     ]
    },
    {
     "name": "stdin",
     "output_type": "stream",
     "text": [
      "Guess a letter:  r\n"
     ]
    },
    {
     "name": "stdout",
     "output_type": "stream",
     "text": [
      "\n",
      "H A N G M A N - Fruits Edition\n",
      "\n",
      "  +---+\n",
      "  |   |\n",
      "  O   |\n",
      " /|   |\n",
      "      |\n",
      "      |\n",
      "=========\n",
      "\n",
      "Missed Letters: d m s \n",
      "\n",
      "o r _ _ _ _ \n",
      "\n"
     ]
    },
    {
     "name": "stdin",
     "output_type": "stream",
     "text": [
      "Guess a letter:  a\n"
     ]
    },
    {
     "name": "stdout",
     "output_type": "stream",
     "text": [
      "\n",
      "H A N G M A N - Fruits Edition\n",
      "\n",
      "  +---+\n",
      "  |   |\n",
      "  O   |\n",
      " /|   |\n",
      "      |\n",
      "      |\n",
      "=========\n",
      "\n",
      "Missed Letters: d m s \n",
      "\n",
      "o r a _ _ _ \n",
      "\n"
     ]
    },
    {
     "name": "stdin",
     "output_type": "stream",
     "text": [
      "Guess a letter:  n\n"
     ]
    },
    {
     "name": "stdout",
     "output_type": "stream",
     "text": [
      "\n",
      "H A N G M A N - Fruits Edition\n",
      "\n",
      "  +---+\n",
      "  |   |\n",
      "  O   |\n",
      " /|   |\n",
      "      |\n",
      "      |\n",
      "=========\n",
      "\n",
      "Missed Letters: d m s \n",
      "\n",
      "o r a n _ _ \n",
      "\n"
     ]
    },
    {
     "name": "stdin",
     "output_type": "stream",
     "text": [
      "Guess a letter:  g\n"
     ]
    },
    {
     "name": "stdout",
     "output_type": "stream",
     "text": [
      "\n",
      "H A N G M A N - Fruits Edition\n",
      "\n",
      "  +---+\n",
      "  |   |\n",
      "  O   |\n",
      " /|   |\n",
      "      |\n",
      "      |\n",
      "=========\n",
      "\n",
      "Missed Letters: d m s \n",
      "\n",
      "o r a n g _ \n",
      "\n"
     ]
    },
    {
     "name": "stdin",
     "output_type": "stream",
     "text": [
      "Guess a letter:  e\n"
     ]
    },
    {
     "name": "stdout",
     "output_type": "stream",
     "text": [
      "\n",
      "Yes! The secret word is \"orange\"! You have won!\n"
     ]
    }
   ],
   "source": [
    "import random\n",
    "\n",
    "from text import ABC, HANGMAN, WORDS\n",
    "\n",
    "\n",
    "def get_random_word() -> str:\n",
    "    return random.choice(WORDS)\n",
    "\n",
    "def restart() -> None:\n",
    "    global missed_letters, correct_letters, game_is_done, secret_word\n",
    "    missed_letters = \"\"\n",
    "    correct_letters = \"\"\n",
    "    game_is_done = False\n",
    "    secret_word = get_random_word()\n",
    "    \n",
    "def display_board(HANGMAN, missed_letters, correct_letters, secret_word) -> None:\n",
    "    print(HANGMAN[len(missed_letters)] + \"\\n\")\n",
    "\n",
    "    print(\"Missed Letters:\", end=\" \")\n",
    "    for letter in missed_letters:\n",
    "        print(letter, end=\" \")\n",
    "    print(\"\\n\")\n",
    "\n",
    "    blanks = \"_\" * len(secret_word)\n",
    "\n",
    "    for i in range(len(secret_word)):\n",
    "        if secret_word[i] in correct_letters:\n",
    "            blanks = blanks[:i] + secret_word[i] + blanks[i + 1 :]\n",
    "\n",
    "    for letter in blanks:\n",
    "        print(letter, end=\" \")\n",
    "    print(\"\\n\")\n",
    "    \n",
    "def get_guess(already_guessed) -> str:\n",
    "    while True:\n",
    "        guess = input(\"Guess a letter: \").lower()\n",
    "        if len(guess) != 1:\n",
    "            print(\"Please enter a single letter.\")\n",
    "        elif guess in already_guessed:\n",
    "            print(\"You have already guessed that letter. Choose again.\")\n",
    "        elif guess not in ABC:\n",
    "            print(\"Please enter a normal letter.\")\n",
    "        else:\n",
    "            return guess\n",
    "def play_again() -> bool:\n",
    "    return input(\"\\nDo you want to play again? \").lower().startswith(\"y\")\n",
    "\n",
    "if __name__ == \"__main__\":\n",
    "\n",
    "    missed_letters = \"\"\n",
    "    correct_letters = \"\"\n",
    "    secret_word = get_random_word()\n",
    "    game_is_done = False\n",
    "\n",
    "    while True:\n",
    "        display_board(HANGMAN, missed_letters, correct_letters, secret_word)\n",
    "\n",
    "        guess = get_guess(missed_letters + correct_letters)\n",
    "\n",
    "        if guess in secret_word:\n",
    "            correct_letters = correct_letters + guess\n",
    "\n",
    "            found_all_letters = True\n",
    "            for i in range(len(secret_word)):\n",
    "                if secret_word[i] not in correct_letters:\n",
    "                    found_all_letters = False\n",
    "                    break\n",
    "            if found_all_letters:\n",
    "                print('\\nYes! The secret word is \"' + secret_word + '\"! You have won!')\n",
    "                game_is_done = True\n",
    "        else:\n",
    "            missed_letters = missed_letters + guess\n",
    "\n",
    "            if len(missed_letters) == len(HANGMAN) - 1:\n",
    "                display_board(HANGMAN, missed_letters, correct_letters, secret_word)\n",
    "                print(\n",
    "                    \"You have run out of guesses!\\nAfter \"\n",
    "                    + str(len(missed_letters))\n",
    "                    + \" missed guesses and \"\n",
    "                    + str(len(correct_letters))\n",
    "                    + ' correct guesses, the word was \"'\n",
    "                    + secret_word\n",
    "                    + '\"'\n",
    "                )\n",
    "                game_is_done = True\n",
    "\n",
    "        if game_is_done:\n",
    "            if play_again():\n",
    "                restart()\n",
    "            else:\n",
    "                break\n",
    "\n",
    "\n",
    "get_random_word()\n",
    "restart()\n",
    "display_board(HANGMAN, missed_letters, correct_letters, secret_word)\n",
    "get_guess(already_guessed)\n",
    "play_again()\n"
   ]
  },
  {
   "cell_type": "code",
   "execution_count": null,
   "id": "c214aa24-6b3f-4bb1-b1a7-6489aa875459",
   "metadata": {},
   "outputs": [],
   "source": []
  },
  {
   "cell_type": "code",
   "execution_count": null,
   "id": "52b0b7cc-3615-4a16-a27e-9cf8a1ffcded",
   "metadata": {},
   "outputs": [],
   "source": []
  }
 ],
 "metadata": {
  "kernelspec": {
   "display_name": "Python 3 (ipykernel)",
   "language": "python",
   "name": "python3"
  },
  "language_info": {
   "codemirror_mode": {
    "name": "ipython",
    "version": 3
   },
   "file_extension": ".py",
   "mimetype": "text/x-python",
   "name": "python",
   "nbconvert_exporter": "python",
   "pygments_lexer": "ipython3",
   "version": "3.11.4"
  }
 },
 "nbformat": 4,
 "nbformat_minor": 5
}
